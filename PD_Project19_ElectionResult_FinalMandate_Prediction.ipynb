{
 "cells": [
  {
   "cell_type": "code",
   "execution_count": 44,
   "metadata": {},
   "outputs": [],
   "source": [
    "import pandas as pd\n",
    "import numpy as np\n",
    "import seaborn as sns\n",
    "import matplotlib.pyplot as plt\n",
    "import warnings\n",
    "warnings.filterwarnings('ignore')"
   ]
  },
  {
   "cell_type": "code",
   "execution_count": 45,
   "metadata": {},
   "outputs": [],
   "source": [
    "data=pd.read_csv('ElectionData.csv')"
   ]
  },
  {
   "cell_type": "code",
   "execution_count": 46,
   "metadata": {},
   "outputs": [
    {
     "data": {
      "text/html": [
       "<div>\n",
       "<style scoped>\n",
       "    .dataframe tbody tr th:only-of-type {\n",
       "        vertical-align: middle;\n",
       "    }\n",
       "\n",
       "    .dataframe tbody tr th {\n",
       "        vertical-align: top;\n",
       "    }\n",
       "\n",
       "    .dataframe thead th {\n",
       "        text-align: right;\n",
       "    }\n",
       "</style>\n",
       "<table border=\"1\" class=\"dataframe\">\n",
       "  <thead>\n",
       "    <tr style=\"text-align: right;\">\n",
       "      <th></th>\n",
       "      <th>TimeElapsed</th>\n",
       "      <th>time</th>\n",
       "      <th>territoryName</th>\n",
       "      <th>totalMandates</th>\n",
       "      <th>availableMandates</th>\n",
       "      <th>numParishes</th>\n",
       "      <th>numParishesApproved</th>\n",
       "      <th>blankVotes</th>\n",
       "      <th>blankVotesPercentage</th>\n",
       "      <th>nullVotes</th>\n",
       "      <th>...</th>\n",
       "      <th>pre.votersPercentage</th>\n",
       "      <th>pre.subscribedVoters</th>\n",
       "      <th>pre.totalVoters</th>\n",
       "      <th>Party</th>\n",
       "      <th>Mandates</th>\n",
       "      <th>Percentage</th>\n",
       "      <th>validVotesPercentage</th>\n",
       "      <th>Votes</th>\n",
       "      <th>Hondt</th>\n",
       "      <th>FinalMandates</th>\n",
       "    </tr>\n",
       "  </thead>\n",
       "  <tbody>\n",
       "    <tr>\n",
       "      <th>0</th>\n",
       "      <td>0</td>\n",
       "      <td>2019-10-06 20:10:02</td>\n",
       "      <td>Território Nacional</td>\n",
       "      <td>0</td>\n",
       "      <td>226</td>\n",
       "      <td>3092</td>\n",
       "      <td>1081</td>\n",
       "      <td>9652</td>\n",
       "      <td>2.50</td>\n",
       "      <td>8874</td>\n",
       "      <td>...</td>\n",
       "      <td>52.66</td>\n",
       "      <td>813743</td>\n",
       "      <td>428546</td>\n",
       "      <td>PS</td>\n",
       "      <td>0</td>\n",
       "      <td>38.29</td>\n",
       "      <td>40.22</td>\n",
       "      <td>147993</td>\n",
       "      <td>94</td>\n",
       "      <td>106</td>\n",
       "    </tr>\n",
       "    <tr>\n",
       "      <th>1</th>\n",
       "      <td>0</td>\n",
       "      <td>2019-10-06 20:10:02</td>\n",
       "      <td>Território Nacional</td>\n",
       "      <td>0</td>\n",
       "      <td>226</td>\n",
       "      <td>3092</td>\n",
       "      <td>1081</td>\n",
       "      <td>9652</td>\n",
       "      <td>2.50</td>\n",
       "      <td>8874</td>\n",
       "      <td>...</td>\n",
       "      <td>52.66</td>\n",
       "      <td>813743</td>\n",
       "      <td>428546</td>\n",
       "      <td>PPD/PSD</td>\n",
       "      <td>0</td>\n",
       "      <td>33.28</td>\n",
       "      <td>34.95</td>\n",
       "      <td>128624</td>\n",
       "      <td>81</td>\n",
       "      <td>77</td>\n",
       "    </tr>\n",
       "    <tr>\n",
       "      <th>2</th>\n",
       "      <td>0</td>\n",
       "      <td>2019-10-06 20:10:02</td>\n",
       "      <td>Território Nacional</td>\n",
       "      <td>0</td>\n",
       "      <td>226</td>\n",
       "      <td>3092</td>\n",
       "      <td>1081</td>\n",
       "      <td>9652</td>\n",
       "      <td>2.50</td>\n",
       "      <td>8874</td>\n",
       "      <td>...</td>\n",
       "      <td>52.66</td>\n",
       "      <td>813743</td>\n",
       "      <td>428546</td>\n",
       "      <td>B.E.</td>\n",
       "      <td>0</td>\n",
       "      <td>6.81</td>\n",
       "      <td>7.15</td>\n",
       "      <td>26307</td>\n",
       "      <td>16</td>\n",
       "      <td>19</td>\n",
       "    </tr>\n",
       "    <tr>\n",
       "      <th>3</th>\n",
       "      <td>0</td>\n",
       "      <td>2019-10-06 20:10:02</td>\n",
       "      <td>Território Nacional</td>\n",
       "      <td>0</td>\n",
       "      <td>226</td>\n",
       "      <td>3092</td>\n",
       "      <td>1081</td>\n",
       "      <td>9652</td>\n",
       "      <td>2.50</td>\n",
       "      <td>8874</td>\n",
       "      <td>...</td>\n",
       "      <td>52.66</td>\n",
       "      <td>813743</td>\n",
       "      <td>428546</td>\n",
       "      <td>CDS-PP</td>\n",
       "      <td>0</td>\n",
       "      <td>4.90</td>\n",
       "      <td>5.14</td>\n",
       "      <td>18923</td>\n",
       "      <td>12</td>\n",
       "      <td>5</td>\n",
       "    </tr>\n",
       "    <tr>\n",
       "      <th>4</th>\n",
       "      <td>0</td>\n",
       "      <td>2019-10-06 20:10:02</td>\n",
       "      <td>Território Nacional</td>\n",
       "      <td>0</td>\n",
       "      <td>226</td>\n",
       "      <td>3092</td>\n",
       "      <td>1081</td>\n",
       "      <td>9652</td>\n",
       "      <td>2.50</td>\n",
       "      <td>8874</td>\n",
       "      <td>...</td>\n",
       "      <td>52.66</td>\n",
       "      <td>813743</td>\n",
       "      <td>428546</td>\n",
       "      <td>PCP-PEV</td>\n",
       "      <td>0</td>\n",
       "      <td>4.59</td>\n",
       "      <td>4.83</td>\n",
       "      <td>17757</td>\n",
       "      <td>11</td>\n",
       "      <td>12</td>\n",
       "    </tr>\n",
       "    <tr>\n",
       "      <th>...</th>\n",
       "      <td>...</td>\n",
       "      <td>...</td>\n",
       "      <td>...</td>\n",
       "      <td>...</td>\n",
       "      <td>...</td>\n",
       "      <td>...</td>\n",
       "      <td>...</td>\n",
       "      <td>...</td>\n",
       "      <td>...</td>\n",
       "      <td>...</td>\n",
       "      <td>...</td>\n",
       "      <td>...</td>\n",
       "      <td>...</td>\n",
       "      <td>...</td>\n",
       "      <td>...</td>\n",
       "      <td>...</td>\n",
       "      <td>...</td>\n",
       "      <td>...</td>\n",
       "      <td>...</td>\n",
       "      <td>...</td>\n",
       "      <td>...</td>\n",
       "    </tr>\n",
       "    <tr>\n",
       "      <th>21638</th>\n",
       "      <td>265</td>\n",
       "      <td>2019-10-07 00:35:01</td>\n",
       "      <td>Viseu</td>\n",
       "      <td>8</td>\n",
       "      <td>0</td>\n",
       "      <td>277</td>\n",
       "      <td>277</td>\n",
       "      <td>4995</td>\n",
       "      <td>2.81</td>\n",
       "      <td>3700</td>\n",
       "      <td>...</td>\n",
       "      <td>51.28</td>\n",
       "      <td>371931</td>\n",
       "      <td>190712</td>\n",
       "      <td>NC</td>\n",
       "      <td>0</td>\n",
       "      <td>0.19</td>\n",
       "      <td>0.20</td>\n",
       "      <td>332</td>\n",
       "      <td>0</td>\n",
       "      <td>0</td>\n",
       "    </tr>\n",
       "    <tr>\n",
       "      <th>21639</th>\n",
       "      <td>265</td>\n",
       "      <td>2019-10-07 00:35:01</td>\n",
       "      <td>Viseu</td>\n",
       "      <td>8</td>\n",
       "      <td>0</td>\n",
       "      <td>277</td>\n",
       "      <td>277</td>\n",
       "      <td>4995</td>\n",
       "      <td>2.81</td>\n",
       "      <td>3700</td>\n",
       "      <td>...</td>\n",
       "      <td>51.28</td>\n",
       "      <td>371931</td>\n",
       "      <td>190712</td>\n",
       "      <td>PNR</td>\n",
       "      <td>0</td>\n",
       "      <td>0.18</td>\n",
       "      <td>0.19</td>\n",
       "      <td>326</td>\n",
       "      <td>0</td>\n",
       "      <td>0</td>\n",
       "    </tr>\n",
       "    <tr>\n",
       "      <th>21640</th>\n",
       "      <td>265</td>\n",
       "      <td>2019-10-07 00:35:01</td>\n",
       "      <td>Viseu</td>\n",
       "      <td>8</td>\n",
       "      <td>0</td>\n",
       "      <td>277</td>\n",
       "      <td>277</td>\n",
       "      <td>4995</td>\n",
       "      <td>2.81</td>\n",
       "      <td>3700</td>\n",
       "      <td>...</td>\n",
       "      <td>51.28</td>\n",
       "      <td>371931</td>\n",
       "      <td>190712</td>\n",
       "      <td>MPT</td>\n",
       "      <td>0</td>\n",
       "      <td>0.14</td>\n",
       "      <td>0.15</td>\n",
       "      <td>256</td>\n",
       "      <td>0</td>\n",
       "      <td>0</td>\n",
       "    </tr>\n",
       "    <tr>\n",
       "      <th>21641</th>\n",
       "      <td>265</td>\n",
       "      <td>2019-10-07 00:35:01</td>\n",
       "      <td>Viseu</td>\n",
       "      <td>8</td>\n",
       "      <td>0</td>\n",
       "      <td>277</td>\n",
       "      <td>277</td>\n",
       "      <td>4995</td>\n",
       "      <td>2.81</td>\n",
       "      <td>3700</td>\n",
       "      <td>...</td>\n",
       "      <td>51.28</td>\n",
       "      <td>371931</td>\n",
       "      <td>190712</td>\n",
       "      <td>PTP</td>\n",
       "      <td>0</td>\n",
       "      <td>0.13</td>\n",
       "      <td>0.14</td>\n",
       "      <td>239</td>\n",
       "      <td>0</td>\n",
       "      <td>0</td>\n",
       "    </tr>\n",
       "    <tr>\n",
       "      <th>21642</th>\n",
       "      <td>265</td>\n",
       "      <td>2019-10-07 00:35:01</td>\n",
       "      <td>Viseu</td>\n",
       "      <td>8</td>\n",
       "      <td>0</td>\n",
       "      <td>277</td>\n",
       "      <td>277</td>\n",
       "      <td>4995</td>\n",
       "      <td>2.81</td>\n",
       "      <td>3700</td>\n",
       "      <td>...</td>\n",
       "      <td>51.28</td>\n",
       "      <td>371931</td>\n",
       "      <td>190712</td>\n",
       "      <td>JPP</td>\n",
       "      <td>0</td>\n",
       "      <td>0.07</td>\n",
       "      <td>0.07</td>\n",
       "      <td>118</td>\n",
       "      <td>0</td>\n",
       "      <td>0</td>\n",
       "    </tr>\n",
       "  </tbody>\n",
       "</table>\n",
       "<p>21643 rows × 28 columns</p>\n",
       "</div>"
      ],
      "text/plain": [
       "       TimeElapsed                 time        territoryName  totalMandates  \\\n",
       "0                0  2019-10-06 20:10:02  Território Nacional              0   \n",
       "1                0  2019-10-06 20:10:02  Território Nacional              0   \n",
       "2                0  2019-10-06 20:10:02  Território Nacional              0   \n",
       "3                0  2019-10-06 20:10:02  Território Nacional              0   \n",
       "4                0  2019-10-06 20:10:02  Território Nacional              0   \n",
       "...            ...                  ...                  ...            ...   \n",
       "21638          265  2019-10-07 00:35:01                Viseu              8   \n",
       "21639          265  2019-10-07 00:35:01                Viseu              8   \n",
       "21640          265  2019-10-07 00:35:01                Viseu              8   \n",
       "21641          265  2019-10-07 00:35:01                Viseu              8   \n",
       "21642          265  2019-10-07 00:35:01                Viseu              8   \n",
       "\n",
       "       availableMandates  numParishes  numParishesApproved  blankVotes  \\\n",
       "0                    226         3092                 1081        9652   \n",
       "1                    226         3092                 1081        9652   \n",
       "2                    226         3092                 1081        9652   \n",
       "3                    226         3092                 1081        9652   \n",
       "4                    226         3092                 1081        9652   \n",
       "...                  ...          ...                  ...         ...   \n",
       "21638                  0          277                  277        4995   \n",
       "21639                  0          277                  277        4995   \n",
       "21640                  0          277                  277        4995   \n",
       "21641                  0          277                  277        4995   \n",
       "21642                  0          277                  277        4995   \n",
       "\n",
       "       blankVotesPercentage  nullVotes  ...  pre.votersPercentage  \\\n",
       "0                      2.50       8874  ...                 52.66   \n",
       "1                      2.50       8874  ...                 52.66   \n",
       "2                      2.50       8874  ...                 52.66   \n",
       "3                      2.50       8874  ...                 52.66   \n",
       "4                      2.50       8874  ...                 52.66   \n",
       "...                     ...        ...  ...                   ...   \n",
       "21638                  2.81       3700  ...                 51.28   \n",
       "21639                  2.81       3700  ...                 51.28   \n",
       "21640                  2.81       3700  ...                 51.28   \n",
       "21641                  2.81       3700  ...                 51.28   \n",
       "21642                  2.81       3700  ...                 51.28   \n",
       "\n",
       "       pre.subscribedVoters  pre.totalVoters    Party  Mandates  Percentage  \\\n",
       "0                    813743           428546       PS         0       38.29   \n",
       "1                    813743           428546  PPD/PSD         0       33.28   \n",
       "2                    813743           428546     B.E.         0        6.81   \n",
       "3                    813743           428546   CDS-PP         0        4.90   \n",
       "4                    813743           428546  PCP-PEV         0        4.59   \n",
       "...                     ...              ...      ...       ...         ...   \n",
       "21638                371931           190712       NC         0        0.19   \n",
       "21639                371931           190712      PNR         0        0.18   \n",
       "21640                371931           190712      MPT         0        0.14   \n",
       "21641                371931           190712      PTP         0        0.13   \n",
       "21642                371931           190712      JPP         0        0.07   \n",
       "\n",
       "       validVotesPercentage   Votes  Hondt  FinalMandates  \n",
       "0                     40.22  147993     94            106  \n",
       "1                     34.95  128624     81             77  \n",
       "2                      7.15   26307     16             19  \n",
       "3                      5.14   18923     12              5  \n",
       "4                      4.83   17757     11             12  \n",
       "...                     ...     ...    ...            ...  \n",
       "21638                  0.20     332      0              0  \n",
       "21639                  0.19     326      0              0  \n",
       "21640                  0.15     256      0              0  \n",
       "21641                  0.14     239      0              0  \n",
       "21642                  0.07     118      0              0  \n",
       "\n",
       "[21643 rows x 28 columns]"
      ]
     },
     "execution_count": 46,
     "metadata": {},
     "output_type": "execute_result"
    }
   ],
   "source": [
    "data"
   ]
  },
  {
   "cell_type": "code",
   "execution_count": 47,
   "metadata": {},
   "outputs": [
    {
     "name": "stdout",
     "output_type": "stream",
     "text": [
      "TimeElapsed                 False\n",
      "time                        False\n",
      "territoryName               False\n",
      "totalMandates               False\n",
      "availableMandates           False\n",
      "numParishes                 False\n",
      "numParishesApproved         False\n",
      "blankVotes                  False\n",
      "blankVotesPercentage        False\n",
      "nullVotes                   False\n",
      "nullVotesPercentage         False\n",
      "votersPercentage            False\n",
      "subscribedVoters            False\n",
      "totalVoters                 False\n",
      "pre.blankVotes              False\n",
      "pre.blankVotesPercentage    False\n",
      "pre.nullVotes               False\n",
      "pre.nullVotesPercentage     False\n",
      "pre.votersPercentage        False\n",
      "pre.subscribedVoters        False\n",
      "pre.totalVoters             False\n",
      "Party                       False\n",
      "Mandates                    False\n",
      "Percentage                  False\n",
      "validVotesPercentage        False\n",
      "Votes                       False\n",
      "Hondt                       False\n",
      "FinalMandates               False\n",
      "dtype: bool\n"
     ]
    }
   ],
   "source": [
    "print(data.isnull().any())"
   ]
  },
  {
   "cell_type": "code",
   "execution_count": 48,
   "metadata": {},
   "outputs": [
    {
     "data": {
      "text/plain": [
       "TimeElapsed                   54\n",
       "time                          54\n",
       "territoryName                 21\n",
       "totalMandates                 62\n",
       "availableMandates             69\n",
       "numParishes                   20\n",
       "numParishesApproved          219\n",
       "blankVotes                   329\n",
       "blankVotesPercentage         146\n",
       "nullVotes                    331\n",
       "nullVotesPercentage          107\n",
       "votersPercentage             282\n",
       "subscribedVoters             335\n",
       "totalVoters                  336\n",
       "pre.blankVotes               323\n",
       "pre.blankVotesPercentage     130\n",
       "pre.nullVotes                329\n",
       "pre.nullVotesPercentage       90\n",
       "pre.votersPercentage         278\n",
       "pre.subscribedVoters         331\n",
       "pre.totalVoters              331\n",
       "Party                         21\n",
       "Mandates                      67\n",
       "Percentage                  1363\n",
       "validVotesPercentage        1387\n",
       "Votes                       4029\n",
       "Hondt                         41\n",
       "FinalMandates                 17\n",
       "dtype: int64"
      ]
     },
     "execution_count": 48,
     "metadata": {},
     "output_type": "execute_result"
    }
   ],
   "source": [
    "data.nunique()"
   ]
  },
  {
   "cell_type": "code",
   "execution_count": 49,
   "metadata": {},
   "outputs": [],
   "source": [
    "from sklearn.preprocessing import LabelEncoder\n",
    "le=LabelEncoder()\n",
    "for i in data.columns:\n",
    "    if data[i].dtype=='object':\n",
    "        data[i]=le.fit_transform(data[i])"
   ]
  },
  {
   "cell_type": "code",
   "execution_count": 50,
   "metadata": {},
   "outputs": [],
   "source": [
    "data.drop(['TimeElapsed','time'],axis=1,inplace=True)"
   ]
  },
  {
   "cell_type": "code",
   "execution_count": 51,
   "metadata": {},
   "outputs": [],
   "source": [
    "x = data.iloc[:, :-1].values"
   ]
  },
  {
   "cell_type": "code",
   "execution_count": 52,
   "metadata": {},
   "outputs": [],
   "source": [
    "y=data.iloc[:,-1].values"
   ]
  },
  {
   "cell_type": "code",
   "execution_count": 53,
   "metadata": {},
   "outputs": [
    {
     "data": {
      "text/plain": [
       "array([[1.60000e+01, 0.00000e+00, 2.26000e+02, ..., 4.02200e+01,\n",
       "        1.47993e+05, 9.40000e+01],\n",
       "       [1.60000e+01, 0.00000e+00, 2.26000e+02, ..., 3.49500e+01,\n",
       "        1.28624e+05, 8.10000e+01],\n",
       "       [1.60000e+01, 0.00000e+00, 2.26000e+02, ..., 7.15000e+00,\n",
       "        2.63070e+04, 1.60000e+01],\n",
       "       ...,\n",
       "       [1.90000e+01, 8.00000e+00, 0.00000e+00, ..., 1.50000e-01,\n",
       "        2.56000e+02, 0.00000e+00],\n",
       "       [1.90000e+01, 8.00000e+00, 0.00000e+00, ..., 1.40000e-01,\n",
       "        2.39000e+02, 0.00000e+00],\n",
       "       [1.90000e+01, 8.00000e+00, 0.00000e+00, ..., 7.00000e-02,\n",
       "        1.18000e+02, 0.00000e+00]])"
      ]
     },
     "execution_count": 53,
     "metadata": {},
     "output_type": "execute_result"
    }
   ],
   "source": [
    "x"
   ]
  },
  {
   "cell_type": "code",
   "execution_count": 54,
   "metadata": {},
   "outputs": [],
   "source": [
    "from sklearn.model_selection import train_test_split\n",
    "from sklearn.metrics import mean_absolute_error,mean_squared_error,r2_score\n",
    "def r2scoref(reg,x,y):\n",
    "    max_r_score=0\n",
    "    for r in range(42,100):\n",
    "        x_train,x_test,y_train,y_test=train_test_split(x,y,random_state=r,test_size=0.20)\n",
    "        reg.fit(x_train,y_train)\n",
    "        y_pred=reg.predict(x_test)\n",
    "        r2_scr=r2_score(y_test,y_pred)\n",
    "        if r2_scr>max_r_score:\n",
    "            max_r_score=r2_scr\n",
    "            r_state=r\n",
    "            plt.scatter(x=y_test,y=y_pred)\n",
    "    print('Maximum r2 score corresponding to random state',r_state,'is',max_r_score)\n",
    "    return(r_state)"
   ]
  },
  {
   "cell_type": "code",
   "execution_count": 55,
   "metadata": {},
   "outputs": [
    {
     "name": "stdout",
     "output_type": "stream",
     "text": [
      "Maximum r2 score corresponding to random state 49 is 1.0\n"
     ]
    },
    {
     "data": {
      "text/plain": [
       "49"
      ]
     },
     "execution_count": 55,
     "metadata": {},
     "output_type": "execute_result"
    },
    {
     "data": {
      "image/png": "[encoded data removed]",
      "text/plain": [
       "<Figure size 432x288 with 1 Axes>"
      ]
     },
     "metadata": {
      "needs_background": "light"
     },
     "output_type": "display_data"
    }
   ],
   "source": [
    "from sklearn.tree import DecisionTreeRegressor\n",
    "dtc = DecisionTreeRegressor(random_state = 0)\n",
    "r2scoref(dtc,x,y)"
   ]
  },
  {
   "cell_type": "code",
   "execution_count": 56,
   "metadata": {},
   "outputs": [
    {
     "name": "stdout",
     "output_type": "stream",
     "text": [
      "Maximum r2 score corresponding to random state 61 is 0.9952016409166992\n"
     ]
    },
    {
     "data": {
      "text/plain": [
       "61"
      ]
     },
     "execution_count": 56,
     "metadata": {},
     "output_type": "execute_result"
    },
    {
     "data": {
      "image/png": "[encoded data removed]",
      "text/plain": [
       "<Figure size 432x288 with 1 Axes>"
      ]
     },
     "metadata": {
      "needs_background": "light"
     },
     "output_type": "display_data"
    }
   ],
   "source": [
    "from sklearn.linear_model import LinearRegression\n",
    "lr=LinearRegression()\n",
    "r2scoref(lr,x,y)"
   ]
  },
  {
   "cell_type": "code",
   "execution_count": 57,
   "metadata": {},
   "outputs": [
    {
     "name": "stdout",
     "output_type": "stream",
     "text": [
      "Maximum r2 score corresponding to random state 85 is 0.9855887003615594\n"
     ]
    },
    {
     "data": {
      "text/plain": [
       "85"
      ]
     },
     "execution_count": 57,
     "metadata": {},
     "output_type": "execute_result"
    },
    {
     "data": {
      "image/png": "[encoded data removed]",
      "text/plain": [
       "<Figure size 432x288 with 1 Axes>"
      ]
     },
     "metadata": {
      "needs_background": "light"
     },
     "output_type": "display_data"
    }
   ],
   "source": [
    "from sklearn.neighbors import KNeighborsRegressor\n",
    "knr=KNeighborsRegressor(n_neighbors=4)\n",
    "r2scoref(knr,x,y)"
   ]
  },
  {
   "cell_type": "code",
   "execution_count": 58,
   "metadata": {},
   "outputs": [
    {
     "name": "stdout",
     "output_type": "stream",
     "text": [
      "Maximum r2 score corresponding to random state 61 is 0.9943200721038787\n"
     ]
    },
    {
     "data": {
      "image/png": "[encoded data removed]",
      "text/plain": [
       "<Figure size 432x288 with 1 Axes>"
      ]
     },
     "metadata": {
      "needs_background": "light"
     },
     "output_type": "display_data"
    }
   ],
   "source": [
    "from sklearn.linear_model import Lasso\n",
    "lso=Lasso(alpha=.1)\n",
    "r_state=r2scoref(lso,x,y)"
   ]
  },
  {
   "cell_type": "code",
   "execution_count": 59,
   "metadata": {},
   "outputs": [
    {
     "name": "stdout",
     "output_type": "stream",
     "text": [
      "Mean r2_score for Decision Tree regression is: 0.9997157152184795\n",
      "Standard Deviation for Decision Tree regression is : 0.003208470067404496\n"
     ]
    }
   ],
   "source": [
    "from sklearn.model_selection import cross_val_score\n",
    "print('Mean r2_score for Decision Tree regression is:',cross_val_score(dtc,x,y,cv=10,scoring=\"r2\").mean())\n",
    "print('Standard Deviation for Decision Tree regression is :',cross_val_score(dtc,x,y,cv=5,scoring=\"r2\").std())"
   ]
  },
  {
   "cell_type": "code",
   "execution_count": 60,
   "metadata": {},
   "outputs": [
    {
     "data": {
      "text/plain": [
       "['ElectionResult_FinalMandates.pkl']"
      ]
     },
     "execution_count": 60,
     "metadata": {},
     "output_type": "execute_result"
    }
   ],
   "source": [
    "from sklearn.externals import joblib\n",
    "joblib.dump(knr,'ElectionResult_FinalMandates.pkl')"
   ]
  },
  {
   "cell_type": "code",
   "execution_count": null,
   "metadata": {},
   "outputs": [],
   "source": []
  }
 ],
 "metadata": {
  "kernelspec": {
   "display_name": "Python 3",
   "language": "python",
   "name": "python3"
  },
  "language_info": {
   "codemirror_mode": {
    "name": "ipython",
    "version": 3
   },
   "file_extension": ".py",
   "mimetype": "text/x-python",
   "name": "python",
   "nbconvert_exporter": "python",
   "pygments_lexer": "ipython3",
   "version": "3.7.6"
  }
 },
 "nbformat": 4,
 "nbformat_minor": 4
}
