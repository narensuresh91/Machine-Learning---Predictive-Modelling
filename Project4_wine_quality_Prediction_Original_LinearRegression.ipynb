{
 "cells": [
  {
   "cell_type": "code",
   "execution_count": 213,
   "metadata": {},
   "outputs": [],
   "source": [
    "import pandas as pd\n",
    "import numpy as np\n",
    "import matplotlib.pyplot as plt\n",
    "import seaborn as sns\n",
    "import warnings\n",
    "warnings.filterwarnings('ignore')"
   ]
  },
  {
   "cell_type": "code",
   "execution_count": 214,
   "metadata": {},
   "outputs": [],
   "source": [
    "wine=pd.read_csv('winequality-red.csv')"
   ]
  },
  {
   "cell_type": "code",
   "execution_count": 215,
   "metadata": {},
   "outputs": [
    {
     "data": {
      "text/html": [
       "<div>\n",
       "<style scoped>\n",
       "    .dataframe tbody tr th:only-of-type {\n",
       "        vertical-align: middle;\n",
       "    }\n",
       "\n",
       "    .dataframe tbody tr th {\n",
       "        vertical-align: top;\n",
       "    }\n",
       "\n",
       "    .dataframe thead th {\n",
       "        text-align: right;\n",
       "    }\n",
       "</style>\n",
       "<table border=\"1\" class=\"dataframe\">\n",
       "  <thead>\n",
       "    <tr style=\"text-align: right;\">\n",
       "      <th></th>\n",
       "      <th>fixed acidity</th>\n",
       "      <th>volatile acidity</th>\n",
       "      <th>citric acid</th>\n",
       "      <th>residual sugar</th>\n",
       "      <th>chlorides</th>\n",
       "      <th>free sulfur dioxide</th>\n",
       "      <th>total sulfur dioxide</th>\n",
       "      <th>density</th>\n",
       "      <th>pH</th>\n",
       "      <th>sulphates</th>\n",
       "      <th>alcohol</th>\n",
       "      <th>quality</th>\n",
       "    </tr>\n",
       "  </thead>\n",
       "  <tbody>\n",
       "    <tr>\n",
       "      <th>0</th>\n",
       "      <td>7.4</td>\n",
       "      <td>0.70</td>\n",
       "      <td>0.00</td>\n",
       "      <td>1.9</td>\n",
       "      <td>0.076</td>\n",
       "      <td>11.0</td>\n",
       "      <td>34.0</td>\n",
       "      <td>0.9978</td>\n",
       "      <td>3.51</td>\n",
       "      <td>0.56</td>\n",
       "      <td>9.4</td>\n",
       "      <td>5</td>\n",
       "    </tr>\n",
       "    <tr>\n",
       "      <th>1</th>\n",
       "      <td>7.8</td>\n",
       "      <td>0.88</td>\n",
       "      <td>0.00</td>\n",
       "      <td>2.6</td>\n",
       "      <td>0.098</td>\n",
       "      <td>25.0</td>\n",
       "      <td>67.0</td>\n",
       "      <td>0.9968</td>\n",
       "      <td>3.20</td>\n",
       "      <td>0.68</td>\n",
       "      <td>9.8</td>\n",
       "      <td>5</td>\n",
       "    </tr>\n",
       "    <tr>\n",
       "      <th>2</th>\n",
       "      <td>7.8</td>\n",
       "      <td>0.76</td>\n",
       "      <td>0.04</td>\n",
       "      <td>2.3</td>\n",
       "      <td>0.092</td>\n",
       "      <td>15.0</td>\n",
       "      <td>54.0</td>\n",
       "      <td>0.9970</td>\n",
       "      <td>3.26</td>\n",
       "      <td>0.65</td>\n",
       "      <td>9.8</td>\n",
       "      <td>5</td>\n",
       "    </tr>\n",
       "    <tr>\n",
       "      <th>3</th>\n",
       "      <td>11.2</td>\n",
       "      <td>0.28</td>\n",
       "      <td>0.56</td>\n",
       "      <td>1.9</td>\n",
       "      <td>0.075</td>\n",
       "      <td>17.0</td>\n",
       "      <td>60.0</td>\n",
       "      <td>0.9980</td>\n",
       "      <td>3.16</td>\n",
       "      <td>0.58</td>\n",
       "      <td>9.8</td>\n",
       "      <td>6</td>\n",
       "    </tr>\n",
       "    <tr>\n",
       "      <th>4</th>\n",
       "      <td>7.4</td>\n",
       "      <td>0.70</td>\n",
       "      <td>0.00</td>\n",
       "      <td>1.9</td>\n",
       "      <td>0.076</td>\n",
       "      <td>11.0</td>\n",
       "      <td>34.0</td>\n",
       "      <td>0.9978</td>\n",
       "      <td>3.51</td>\n",
       "      <td>0.56</td>\n",
       "      <td>9.4</td>\n",
       "      <td>5</td>\n",
       "    </tr>\n",
       "  </tbody>\n",
       "</table>\n",
       "</div>"
      ],
      "text/plain": [
       "   fixed acidity  volatile acidity  citric acid  residual sugar  chlorides  \\\n",
       "0            7.4              0.70         0.00             1.9      0.076   \n",
       "1            7.8              0.88         0.00             2.6      0.098   \n",
       "2            7.8              0.76         0.04             2.3      0.092   \n",
       "3           11.2              0.28         0.56             1.9      0.075   \n",
       "4            7.4              0.70         0.00             1.9      0.076   \n",
       "\n",
       "   free sulfur dioxide  total sulfur dioxide  density    pH  sulphates  \\\n",
       "0                 11.0                  34.0   0.9978  3.51       0.56   \n",
       "1                 25.0                  67.0   0.9968  3.20       0.68   \n",
       "2                 15.0                  54.0   0.9970  3.26       0.65   \n",
       "3                 17.0                  60.0   0.9980  3.16       0.58   \n",
       "4                 11.0                  34.0   0.9978  3.51       0.56   \n",
       "\n",
       "   alcohol  quality  \n",
       "0      9.4        5  \n",
       "1      9.8        5  \n",
       "2      9.8        5  \n",
       "3      9.8        6  \n",
       "4      9.4        5  "
      ]
     },
     "execution_count": 215,
     "metadata": {},
     "output_type": "execute_result"
    }
   ],
   "source": [
    "wine.head()"
   ]
  },
  {
   "cell_type": "code",
   "execution_count": 216,
   "metadata": {},
   "outputs": [
    {
     "data": {
      "text/plain": [
       "(1599, 12)"
      ]
     },
     "execution_count": 216,
     "metadata": {},
     "output_type": "execute_result"
    }
   ],
   "source": [
    "wine.shape"
   ]
  },
  {
   "cell_type": "code",
   "execution_count": 217,
   "metadata": {},
   "outputs": [
    {
     "data": {
      "text/html": [
       "<div>\n",
       "<style scoped>\n",
       "    .dataframe tbody tr th:only-of-type {\n",
       "        vertical-align: middle;\n",
       "    }\n",
       "\n",
       "    .dataframe tbody tr th {\n",
       "        vertical-align: top;\n",
       "    }\n",
       "\n",
       "    .dataframe thead th {\n",
       "        text-align: right;\n",
       "    }\n",
       "</style>\n",
       "<table border=\"1\" class=\"dataframe\">\n",
       "  <thead>\n",
       "    <tr style=\"text-align: right;\">\n",
       "      <th></th>\n",
       "      <th>fixed acidity</th>\n",
       "      <th>volatile acidity</th>\n",
       "      <th>citric acid</th>\n",
       "      <th>residual sugar</th>\n",
       "      <th>chlorides</th>\n",
       "      <th>free sulfur dioxide</th>\n",
       "      <th>total sulfur dioxide</th>\n",
       "      <th>density</th>\n",
       "      <th>pH</th>\n",
       "      <th>sulphates</th>\n",
       "      <th>alcohol</th>\n",
       "      <th>quality</th>\n",
       "    </tr>\n",
       "  </thead>\n",
       "  <tbody>\n",
       "    <tr>\n",
       "      <th>count</th>\n",
       "      <td>1599.000000</td>\n",
       "      <td>1599.000000</td>\n",
       "      <td>1599.000000</td>\n",
       "      <td>1599.000000</td>\n",
       "      <td>1599.000000</td>\n",
       "      <td>1599.000000</td>\n",
       "      <td>1599.000000</td>\n",
       "      <td>1599.000000</td>\n",
       "      <td>1599.000000</td>\n",
       "      <td>1599.000000</td>\n",
       "      <td>1599.000000</td>\n",
       "      <td>1599.000000</td>\n",
       "    </tr>\n",
       "    <tr>\n",
       "      <th>mean</th>\n",
       "      <td>8.319637</td>\n",
       "      <td>0.527821</td>\n",
       "      <td>0.270976</td>\n",
       "      <td>2.538806</td>\n",
       "      <td>0.087467</td>\n",
       "      <td>15.874922</td>\n",
       "      <td>46.467792</td>\n",
       "      <td>0.996747</td>\n",
       "      <td>3.311113</td>\n",
       "      <td>0.658149</td>\n",
       "      <td>10.422983</td>\n",
       "      <td>5.636023</td>\n",
       "    </tr>\n",
       "    <tr>\n",
       "      <th>std</th>\n",
       "      <td>1.741096</td>\n",
       "      <td>0.179060</td>\n",
       "      <td>0.194801</td>\n",
       "      <td>1.409928</td>\n",
       "      <td>0.047065</td>\n",
       "      <td>10.460157</td>\n",
       "      <td>32.895324</td>\n",
       "      <td>0.001887</td>\n",
       "      <td>0.154386</td>\n",
       "      <td>0.169507</td>\n",
       "      <td>1.065668</td>\n",
       "      <td>0.807569</td>\n",
       "    </tr>\n",
       "    <tr>\n",
       "      <th>min</th>\n",
       "      <td>4.600000</td>\n",
       "      <td>0.120000</td>\n",
       "      <td>0.000000</td>\n",
       "      <td>0.900000</td>\n",
       "      <td>0.012000</td>\n",
       "      <td>1.000000</td>\n",
       "      <td>6.000000</td>\n",
       "      <td>0.990070</td>\n",
       "      <td>2.740000</td>\n",
       "      <td>0.330000</td>\n",
       "      <td>8.400000</td>\n",
       "      <td>3.000000</td>\n",
       "    </tr>\n",
       "    <tr>\n",
       "      <th>25%</th>\n",
       "      <td>7.100000</td>\n",
       "      <td>0.390000</td>\n",
       "      <td>0.090000</td>\n",
       "      <td>1.900000</td>\n",
       "      <td>0.070000</td>\n",
       "      <td>7.000000</td>\n",
       "      <td>22.000000</td>\n",
       "      <td>0.995600</td>\n",
       "      <td>3.210000</td>\n",
       "      <td>0.550000</td>\n",
       "      <td>9.500000</td>\n",
       "      <td>5.000000</td>\n",
       "    </tr>\n",
       "    <tr>\n",
       "      <th>50%</th>\n",
       "      <td>7.900000</td>\n",
       "      <td>0.520000</td>\n",
       "      <td>0.260000</td>\n",
       "      <td>2.200000</td>\n",
       "      <td>0.079000</td>\n",
       "      <td>14.000000</td>\n",
       "      <td>38.000000</td>\n",
       "      <td>0.996750</td>\n",
       "      <td>3.310000</td>\n",
       "      <td>0.620000</td>\n",
       "      <td>10.200000</td>\n",
       "      <td>6.000000</td>\n",
       "    </tr>\n",
       "    <tr>\n",
       "      <th>75%</th>\n",
       "      <td>9.200000</td>\n",
       "      <td>0.640000</td>\n",
       "      <td>0.420000</td>\n",
       "      <td>2.600000</td>\n",
       "      <td>0.090000</td>\n",
       "      <td>21.000000</td>\n",
       "      <td>62.000000</td>\n",
       "      <td>0.997835</td>\n",
       "      <td>3.400000</td>\n",
       "      <td>0.730000</td>\n",
       "      <td>11.100000</td>\n",
       "      <td>6.000000</td>\n",
       "    </tr>\n",
       "    <tr>\n",
       "      <th>max</th>\n",
       "      <td>15.900000</td>\n",
       "      <td>1.580000</td>\n",
       "      <td>1.000000</td>\n",
       "      <td>15.500000</td>\n",
       "      <td>0.611000</td>\n",
       "      <td>72.000000</td>\n",
       "      <td>289.000000</td>\n",
       "      <td>1.003690</td>\n",
       "      <td>4.010000</td>\n",
       "      <td>2.000000</td>\n",
       "      <td>14.900000</td>\n",
       "      <td>8.000000</td>\n",
       "    </tr>\n",
       "  </tbody>\n",
       "</table>\n",
       "</div>"
      ],
      "text/plain": [
       "       fixed acidity  volatile acidity  citric acid  residual sugar  \\\n",
       "count    1599.000000       1599.000000  1599.000000     1599.000000   \n",
       "mean        8.319637          0.527821     0.270976        2.538806   \n",
       "std         1.741096          0.179060     0.194801        1.409928   \n",
       "min         4.600000          0.120000     0.000000        0.900000   \n",
       "25%         7.100000          0.390000     0.090000        1.900000   \n",
       "50%         7.900000          0.520000     0.260000        2.200000   \n",
       "75%         9.200000          0.640000     0.420000        2.600000   \n",
       "max        15.900000          1.580000     1.000000       15.500000   \n",
       "\n",
       "         chlorides  free sulfur dioxide  total sulfur dioxide      density  \\\n",
       "count  1599.000000          1599.000000           1599.000000  1599.000000   \n",
       "mean      0.087467            15.874922             46.467792     0.996747   \n",
       "std       0.047065            10.460157             32.895324     0.001887   \n",
       "min       0.012000             1.000000              6.000000     0.990070   \n",
       "25%       0.070000             7.000000             22.000000     0.995600   \n",
       "50%       0.079000            14.000000             38.000000     0.996750   \n",
       "75%       0.090000            21.000000             62.000000     0.997835   \n",
       "max       0.611000            72.000000            289.000000     1.003690   \n",
       "\n",
       "                pH    sulphates      alcohol      quality  \n",
       "count  1599.000000  1599.000000  1599.000000  1599.000000  \n",
       "mean      3.311113     0.658149    10.422983     5.636023  \n",
       "std       0.154386     0.169507     1.065668     0.807569  \n",
       "min       2.740000     0.330000     8.400000     3.000000  \n",
       "25%       3.210000     0.550000     9.500000     5.000000  \n",
       "50%       3.310000     0.620000    10.200000     6.000000  \n",
       "75%       3.400000     0.730000    11.100000     6.000000  \n",
       "max       4.010000     2.000000    14.900000     8.000000  "
      ]
     },
     "execution_count": 217,
     "metadata": {},
     "output_type": "execute_result"
    }
   ],
   "source": [
    "wine.describe()"
   ]
  },
  {
   "cell_type": "code",
   "execution_count": 218,
   "metadata": {},
   "outputs": [
    {
     "data": {
      "text/plain": [
       "fixed acidity           0\n",
       "volatile acidity        0\n",
       "citric acid             0\n",
       "residual sugar          0\n",
       "chlorides               0\n",
       "free sulfur dioxide     0\n",
       "total sulfur dioxide    0\n",
       "density                 0\n",
       "pH                      0\n",
       "sulphates               0\n",
       "alcohol                 0\n",
       "quality                 0\n",
       "dtype: int64"
      ]
     },
     "execution_count": 218,
     "metadata": {},
     "output_type": "execute_result"
    }
   ],
   "source": [
    "wine.isnull().sum()"
   ]
  },
  {
   "cell_type": "code",
   "execution_count": 219,
   "metadata": {},
   "outputs": [
    {
     "data": {
      "text/plain": [
       "<matplotlib.axes._subplots.AxesSubplot at 0x264225fa988>"
      ]
     },
     "execution_count": 219,
     "metadata": {},
     "output_type": "execute_result"
    },
    {
     "data": {
      "image/png": "[encoded data removed]",
      "text/plain": [
       "<Figure size 432x288 with 2 Axes>"
      ]
     },
     "metadata": {
      "needs_background": "light"
     },
     "output_type": "display_data"
    }
   ],
   "source": [
    "sns.heatmap(wine.isnull())"
   ]
  },
  {
   "cell_type": "code",
   "execution_count": 220,
   "metadata": {},
   "outputs": [
    {
     "data": {
      "text/plain": [
       "array([5, 6, 7, 4, 8, 3], dtype=int64)"
      ]
     },
     "execution_count": 220,
     "metadata": {},
     "output_type": "execute_result"
    }
   ],
   "source": [
    "wine.quality.unique()"
   ]
  },
  {
   "cell_type": "code",
   "execution_count": 221,
   "metadata": {},
   "outputs": [
    {
     "data": {
      "text/plain": [
       "5    681\n",
       "6    638\n",
       "7    199\n",
       "4     53\n",
       "8     18\n",
       "3     10\n",
       "Name: quality, dtype: int64"
      ]
     },
     "execution_count": 221,
     "metadata": {},
     "output_type": "execute_result"
    }
   ],
   "source": [
    "wine.quality.value_counts()"
   ]
  },
  {
   "cell_type": "code",
   "execution_count": 222,
   "metadata": {},
   "outputs": [
    {
     "data": {
      "text/html": [
       "<div>\n",
       "<style scoped>\n",
       "    .dataframe tbody tr th:only-of-type {\n",
       "        vertical-align: middle;\n",
       "    }\n",
       "\n",
       "    .dataframe tbody tr th {\n",
       "        vertical-align: top;\n",
       "    }\n",
       "\n",
       "    .dataframe thead th {\n",
       "        text-align: right;\n",
       "    }\n",
       "</style>\n",
       "<table border=\"1\" class=\"dataframe\">\n",
       "  <thead>\n",
       "    <tr style=\"text-align: right;\">\n",
       "      <th></th>\n",
       "      <th>fixed acidity</th>\n",
       "      <th>volatile acidity</th>\n",
       "      <th>citric acid</th>\n",
       "      <th>residual sugar</th>\n",
       "      <th>chlorides</th>\n",
       "      <th>free sulfur dioxide</th>\n",
       "      <th>total sulfur dioxide</th>\n",
       "      <th>density</th>\n",
       "      <th>pH</th>\n",
       "      <th>sulphates</th>\n",
       "      <th>alcohol</th>\n",
       "      <th>quality</th>\n",
       "    </tr>\n",
       "  </thead>\n",
       "  <tbody>\n",
       "    <tr>\n",
       "      <th>fixed acidity</th>\n",
       "      <td>1.000000</td>\n",
       "      <td>-0.256131</td>\n",
       "      <td>0.671703</td>\n",
       "      <td>0.114777</td>\n",
       "      <td>0.093705</td>\n",
       "      <td>-0.153794</td>\n",
       "      <td>-0.113181</td>\n",
       "      <td>0.668047</td>\n",
       "      <td>-0.682978</td>\n",
       "      <td>0.183006</td>\n",
       "      <td>-0.061668</td>\n",
       "      <td>0.124052</td>\n",
       "    </tr>\n",
       "    <tr>\n",
       "      <th>volatile acidity</th>\n",
       "      <td>-0.256131</td>\n",
       "      <td>1.000000</td>\n",
       "      <td>-0.552496</td>\n",
       "      <td>0.001918</td>\n",
       "      <td>0.061298</td>\n",
       "      <td>-0.010504</td>\n",
       "      <td>0.076470</td>\n",
       "      <td>0.022026</td>\n",
       "      <td>0.234937</td>\n",
       "      <td>-0.260987</td>\n",
       "      <td>-0.202288</td>\n",
       "      <td>-0.390558</td>\n",
       "    </tr>\n",
       "    <tr>\n",
       "      <th>citric acid</th>\n",
       "      <td>0.671703</td>\n",
       "      <td>-0.552496</td>\n",
       "      <td>1.000000</td>\n",
       "      <td>0.143577</td>\n",
       "      <td>0.203823</td>\n",
       "      <td>-0.060978</td>\n",
       "      <td>0.035533</td>\n",
       "      <td>0.364947</td>\n",
       "      <td>-0.541904</td>\n",
       "      <td>0.312770</td>\n",
       "      <td>0.109903</td>\n",
       "      <td>0.226373</td>\n",
       "    </tr>\n",
       "    <tr>\n",
       "      <th>residual sugar</th>\n",
       "      <td>0.114777</td>\n",
       "      <td>0.001918</td>\n",
       "      <td>0.143577</td>\n",
       "      <td>1.000000</td>\n",
       "      <td>0.055610</td>\n",
       "      <td>0.187049</td>\n",
       "      <td>0.203028</td>\n",
       "      <td>0.355283</td>\n",
       "      <td>-0.085652</td>\n",
       "      <td>0.005527</td>\n",
       "      <td>0.042075</td>\n",
       "      <td>0.013732</td>\n",
       "    </tr>\n",
       "    <tr>\n",
       "      <th>chlorides</th>\n",
       "      <td>0.093705</td>\n",
       "      <td>0.061298</td>\n",
       "      <td>0.203823</td>\n",
       "      <td>0.055610</td>\n",
       "      <td>1.000000</td>\n",
       "      <td>0.005562</td>\n",
       "      <td>0.047400</td>\n",
       "      <td>0.200632</td>\n",
       "      <td>-0.265026</td>\n",
       "      <td>0.371260</td>\n",
       "      <td>-0.221141</td>\n",
       "      <td>-0.128907</td>\n",
       "    </tr>\n",
       "    <tr>\n",
       "      <th>free sulfur dioxide</th>\n",
       "      <td>-0.153794</td>\n",
       "      <td>-0.010504</td>\n",
       "      <td>-0.060978</td>\n",
       "      <td>0.187049</td>\n",
       "      <td>0.005562</td>\n",
       "      <td>1.000000</td>\n",
       "      <td>0.667666</td>\n",
       "      <td>-0.021946</td>\n",
       "      <td>0.070377</td>\n",
       "      <td>0.051658</td>\n",
       "      <td>-0.069408</td>\n",
       "      <td>-0.050656</td>\n",
       "    </tr>\n",
       "    <tr>\n",
       "      <th>total sulfur dioxide</th>\n",
       "      <td>-0.113181</td>\n",
       "      <td>0.076470</td>\n",
       "      <td>0.035533</td>\n",
       "      <td>0.203028</td>\n",
       "      <td>0.047400</td>\n",
       "      <td>0.667666</td>\n",
       "      <td>1.000000</td>\n",
       "      <td>0.071269</td>\n",
       "      <td>-0.066495</td>\n",
       "      <td>0.042947</td>\n",
       "      <td>-0.205654</td>\n",
       "      <td>-0.185100</td>\n",
       "    </tr>\n",
       "    <tr>\n",
       "      <th>density</th>\n",
       "      <td>0.668047</td>\n",
       "      <td>0.022026</td>\n",
       "      <td>0.364947</td>\n",
       "      <td>0.355283</td>\n",
       "      <td>0.200632</td>\n",
       "      <td>-0.021946</td>\n",
       "      <td>0.071269</td>\n",
       "      <td>1.000000</td>\n",
       "      <td>-0.341699</td>\n",
       "      <td>0.148506</td>\n",
       "      <td>-0.496180</td>\n",
       "      <td>-0.174919</td>\n",
       "    </tr>\n",
       "    <tr>\n",
       "      <th>pH</th>\n",
       "      <td>-0.682978</td>\n",
       "      <td>0.234937</td>\n",
       "      <td>-0.541904</td>\n",
       "      <td>-0.085652</td>\n",
       "      <td>-0.265026</td>\n",
       "      <td>0.070377</td>\n",
       "      <td>-0.066495</td>\n",
       "      <td>-0.341699</td>\n",
       "      <td>1.000000</td>\n",
       "      <td>-0.196648</td>\n",
       "      <td>0.205633</td>\n",
       "      <td>-0.057731</td>\n",
       "    </tr>\n",
       "    <tr>\n",
       "      <th>sulphates</th>\n",
       "      <td>0.183006</td>\n",
       "      <td>-0.260987</td>\n",
       "      <td>0.312770</td>\n",
       "      <td>0.005527</td>\n",
       "      <td>0.371260</td>\n",
       "      <td>0.051658</td>\n",
       "      <td>0.042947</td>\n",
       "      <td>0.148506</td>\n",
       "      <td>-0.196648</td>\n",
       "      <td>1.000000</td>\n",
       "      <td>0.093595</td>\n",
       "      <td>0.251397</td>\n",
       "    </tr>\n",
       "    <tr>\n",
       "      <th>alcohol</th>\n",
       "      <td>-0.061668</td>\n",
       "      <td>-0.202288</td>\n",
       "      <td>0.109903</td>\n",
       "      <td>0.042075</td>\n",
       "      <td>-0.221141</td>\n",
       "      <td>-0.069408</td>\n",
       "      <td>-0.205654</td>\n",
       "      <td>-0.496180</td>\n",
       "      <td>0.205633</td>\n",
       "      <td>0.093595</td>\n",
       "      <td>1.000000</td>\n",
       "      <td>0.476166</td>\n",
       "    </tr>\n",
       "    <tr>\n",
       "      <th>quality</th>\n",
       "      <td>0.124052</td>\n",
       "      <td>-0.390558</td>\n",
       "      <td>0.226373</td>\n",
       "      <td>0.013732</td>\n",
       "      <td>-0.128907</td>\n",
       "      <td>-0.050656</td>\n",
       "      <td>-0.185100</td>\n",
       "      <td>-0.174919</td>\n",
       "      <td>-0.057731</td>\n",
       "      <td>0.251397</td>\n",
       "      <td>0.476166</td>\n",
       "      <td>1.000000</td>\n",
       "    </tr>\n",
       "  </tbody>\n",
       "</table>\n",
       "</div>"
      ],
      "text/plain": [
       "                      fixed acidity  volatile acidity  citric acid  \\\n",
       "fixed acidity              1.000000         -0.256131     0.671703   \n",
       "volatile acidity          -0.256131          1.000000    -0.552496   \n",
       "citric acid                0.671703         -0.552496     1.000000   \n",
       "residual sugar             0.114777          0.001918     0.143577   \n",
       "chlorides                  0.093705          0.061298     0.203823   \n",
       "free sulfur dioxide       -0.153794         -0.010504    -0.060978   \n",
       "total sulfur dioxide      -0.113181          0.076470     0.035533   \n",
       "density                    0.668047          0.022026     0.364947   \n",
       "pH                        -0.682978          0.234937    -0.541904   \n",
       "sulphates                  0.183006         -0.260987     0.312770   \n",
       "alcohol                   -0.061668         -0.202288     0.109903   \n",
       "quality                    0.124052         -0.390558     0.226373   \n",
       "\n",
       "                      residual sugar  chlorides  free sulfur dioxide  \\\n",
       "fixed acidity               0.114777   0.093705            -0.153794   \n",
       "volatile acidity            0.001918   0.061298            -0.010504   \n",
       "citric acid                 0.143577   0.203823            -0.060978   \n",
       "residual sugar              1.000000   0.055610             0.187049   \n",
       "chlorides                   0.055610   1.000000             0.005562   \n",
       "free sulfur dioxide         0.187049   0.005562             1.000000   \n",
       "total sulfur dioxide        0.203028   0.047400             0.667666   \n",
       "density                     0.355283   0.200632            -0.021946   \n",
       "pH                         -0.085652  -0.265026             0.070377   \n",
       "sulphates                   0.005527   0.371260             0.051658   \n",
       "alcohol                     0.042075  -0.221141            -0.069408   \n",
       "quality                     0.013732  -0.128907            -0.050656   \n",
       "\n",
       "                      total sulfur dioxide   density        pH  sulphates  \\\n",
       "fixed acidity                    -0.113181  0.668047 -0.682978   0.183006   \n",
       "volatile acidity                  0.076470  0.022026  0.234937  -0.260987   \n",
       "citric acid                       0.035533  0.364947 -0.541904   0.312770   \n",
       "residual sugar                    0.203028  0.355283 -0.085652   0.005527   \n",
       "chlorides                         0.047400  0.200632 -0.265026   0.371260   \n",
       "free sulfur dioxide               0.667666 -0.021946  0.070377   0.051658   \n",
       "total sulfur dioxide              1.000000  0.071269 -0.066495   0.042947   \n",
       "density                           0.071269  1.000000 -0.341699   0.148506   \n",
       "pH                               -0.066495 -0.341699  1.000000  -0.196648   \n",
       "sulphates                         0.042947  0.148506 -0.196648   1.000000   \n",
       "alcohol                          -0.205654 -0.496180  0.205633   0.093595   \n",
       "quality                          -0.185100 -0.174919 -0.057731   0.251397   \n",
       "\n",
       "                       alcohol   quality  \n",
       "fixed acidity        -0.061668  0.124052  \n",
       "volatile acidity     -0.202288 -0.390558  \n",
       "citric acid           0.109903  0.226373  \n",
       "residual sugar        0.042075  0.013732  \n",
       "chlorides            -0.221141 -0.128907  \n",
       "free sulfur dioxide  -0.069408 -0.050656  \n",
       "total sulfur dioxide -0.205654 -0.185100  \n",
       "density              -0.496180 -0.174919  \n",
       "pH                    0.205633 -0.057731  \n",
       "sulphates             0.093595  0.251397  \n",
       "alcohol               1.000000  0.476166  \n",
       "quality               0.476166  1.000000  "
      ]
     },
     "execution_count": 222,
     "metadata": {},
     "output_type": "execute_result"
    }
   ],
   "source": [
    "wcorr=wine.corr()\n",
    "wcorr"
   ]
  },
  {
   "cell_type": "code",
   "execution_count": 223,
   "metadata": {},
   "outputs": [
    {
     "data": {
      "text/plain": [
       "<matplotlib.axes._subplots.AxesSubplot at 0x264224eac48>"
      ]
     },
     "execution_count": 223,
     "metadata": {},
     "output_type": "execute_result"
    },
    {
     "data": {
      "image/png": "[encoded data removed]",
      "text/plain": [
       "<Figure size 720x432 with 2 Axes>"
      ]
     },
     "metadata": {
      "needs_background": "light"
     },
     "output_type": "display_data"
    }
   ],
   "source": [
    "plt.figure(figsize=(10,6))\n",
    "sns.heatmap(wcorr,cmap='YlOrRd_r',annot=True)"
   ]
  },
  {
   "cell_type": "code",
   "execution_count": 224,
   "metadata": {},
   "outputs": [],
   "source": [
    "collist=wine.columns.values\n",
    "ncol=12\n",
    "nrow=10"
   ]
  },
  {
   "cell_type": "code",
   "execution_count": 225,
   "metadata": {},
   "outputs": [
    {
     "data": {
      "image/png": "[encoded data removed]",
      "text/plain": [
       "<Figure size 864x4320 with 11 Axes>"
      ]
     },
     "metadata": {
      "needs_background": "light"
     },
     "output_type": "display_data"
    }
   ],
   "source": [
    "plt.figure(figsize=(ncol,5*ncol))\n",
    "for i in range(1,len(collist)):\n",
    "    plt.subplot(nrow,ncol,i+1)\n",
    "    sns.boxplot(wine[collist[i]],color='green',orient='v')\n",
    "    plt.tight_layout()"
   ]
  },
  {
   "cell_type": "code",
   "execution_count": 226,
   "metadata": {},
   "outputs": [
    {
     "data": {
      "text/plain": [
       "fixed acidity           0.982751\n",
       "volatile acidity        0.671593\n",
       "citric acid             0.318337\n",
       "residual sugar          4.540655\n",
       "chlorides               5.680347\n",
       "free sulfur dioxide     1.250567\n",
       "total sulfur dioxide    1.515531\n",
       "density                 0.071288\n",
       "pH                      0.193683\n",
       "sulphates               2.428672\n",
       "alcohol                 0.860829\n",
       "quality                 0.217802\n",
       "dtype: float64"
      ]
     },
     "execution_count": 226,
     "metadata": {},
     "output_type": "execute_result"
    }
   ],
   "source": [
    "wine.skew()"
   ]
  },
  {
   "cell_type": "code",
   "execution_count": 227,
   "metadata": {},
   "outputs": [],
   "source": [
    "from scipy.stats import zscore\n",
    "z_score=abs(zscore(wine))\n",
    "wine=wine[(z_score<3).all(axis=1)]"
   ]
  },
  {
   "cell_type": "code",
   "execution_count": 228,
   "metadata": {},
   "outputs": [
    {
     "data": {
      "image/png": "[encoded data removed]",
      "text/plain": [
       "<Figure size 864x4320 with 11 Axes>"
      ]
     },
     "metadata": {
      "needs_background": "light"
     },
     "output_type": "display_data"
    }
   ],
   "source": [
    "plt.figure(figsize=(ncol,5*ncol))\n",
    "for i in range(1,len(collist)):\n",
    "    plt.subplot(nrow,ncol,i+1)\n",
    "    sns.boxplot(wine[collist[i]],color='green',orient='v')\n",
    "    plt.tight_layout()"
   ]
  },
  {
   "cell_type": "code",
   "execution_count": 229,
   "metadata": {},
   "outputs": [
    {
     "data": {
      "text/plain": [
       "(1451, 12)"
      ]
     },
     "execution_count": 229,
     "metadata": {},
     "output_type": "execute_result"
    }
   ],
   "source": [
    "wine.shape"
   ]
  },
  {
   "cell_type": "code",
   "execution_count": 230,
   "metadata": {},
   "outputs": [],
   "source": [
    "wine.drop(['volatile acidity'],axis=1,inplace=True)"
   ]
  },
  {
   "cell_type": "code",
   "execution_count": 231,
   "metadata": {},
   "outputs": [
    {
     "data": {
      "text/plain": [
       "fixed acidity           0.823934\n",
       "citric acid             0.291297\n",
       "residual sugar          2.456107\n",
       "chlorides               2.275162\n",
       "free sulfur dioxide     0.869250\n",
       "total sulfur dioxide    1.183161\n",
       "density                 0.055738\n",
       "pH                      0.114705\n",
       "sulphates               0.891492\n",
       "alcohol                 0.758958\n",
       "quality                 0.407865\n",
       "dtype: float64"
      ]
     },
     "execution_count": 231,
     "metadata": {},
     "output_type": "execute_result"
    }
   ],
   "source": [
    "wine.skew()"
   ]
  },
  {
   "cell_type": "code",
   "execution_count": 232,
   "metadata": {},
   "outputs": [
    {
     "data": {
      "text/plain": [
       "(1451, 10)"
      ]
     },
     "execution_count": 232,
     "metadata": {},
     "output_type": "execute_result"
    }
   ],
   "source": [
    "x=wine.iloc[:,:-1]\n",
    "x.shape"
   ]
  },
  {
   "cell_type": "code",
   "execution_count": 233,
   "metadata": {},
   "outputs": [
    {
     "data": {
      "text/plain": [
       "(1451,)"
      ]
     },
     "execution_count": 233,
     "metadata": {},
     "output_type": "execute_result"
    }
   ],
   "source": [
    "y=wine.iloc[:,-1]\n",
    "y.shape"
   ]
  },
  {
   "cell_type": "code",
   "execution_count": 234,
   "metadata": {},
   "outputs": [
    {
     "data": {
      "text/plain": [
       "0       5\n",
       "1       5\n",
       "2       5\n",
       "3       6\n",
       "4       5\n",
       "       ..\n",
       "1594    5\n",
       "1595    6\n",
       "1596    6\n",
       "1597    5\n",
       "1598    6\n",
       "Name: quality, Length: 1451, dtype: int64"
      ]
     },
     "execution_count": 234,
     "metadata": {},
     "output_type": "execute_result"
    }
   ],
   "source": [
    "y"
   ]
  },
  {
   "cell_type": "code",
   "execution_count": 235,
   "metadata": {},
   "outputs": [],
   "source": [
    "from scipy.stats import boxcox\n",
    "x['fixed acidity']=boxcox(x['fixed acidity'],0)\n",
    "x['residual sugar']=boxcox(x['residual sugar'],0)\n",
    "x['chlorides']=boxcox(x['chlorides'],0)\n",
    "x['free sulfur dioxide']=boxcox(x['free sulfur dioxide'],0)\n",
    "x['total sulfur dioxide']=boxcox(x['total sulfur dioxide'],0)\n",
    "x['sulphates']=boxcox(x['sulphates'],0)\n",
    "x['alcohol']=boxcox(x['alcohol'],0)\n",
    "\n",
    "\n"
   ]
  },
  {
   "cell_type": "code",
   "execution_count": 236,
   "metadata": {},
   "outputs": [
    {
     "data": {
      "text/plain": [
       "fixed acidity           0.377931\n",
       "citric acid             0.291297\n",
       "residual sugar          1.227096\n",
       "chlorides               0.496272\n",
       "free sulfur dioxide    -0.303456\n",
       "total sulfur dioxide   -0.096908\n",
       "density                 0.055738\n",
       "pH                      0.114705\n",
       "sulphates               0.342375\n",
       "alcohol                 0.592414\n",
       "dtype: float64"
      ]
     },
     "execution_count": 236,
     "metadata": {},
     "output_type": "execute_result"
    }
   ],
   "source": [
    "x.skew()"
   ]
  },
  {
   "cell_type": "code",
   "execution_count": 237,
   "metadata": {},
   "outputs": [
    {
     "data": {
      "text/plain": [
       "(1451, 10)"
      ]
     },
     "execution_count": 237,
     "metadata": {},
     "output_type": "execute_result"
    }
   ],
   "source": [
    "x1=x\n",
    "x.shape"
   ]
  },
  {
   "cell_type": "code",
   "execution_count": 238,
   "metadata": {},
   "outputs": [
    {
     "data": {
      "text/plain": [
       "(1451, 1)"
      ]
     },
     "execution_count": 238,
     "metadata": {},
     "output_type": "execute_result"
    }
   ],
   "source": [
    "y=y.values.reshape(-1,1)\n",
    "y.shape"
   ]
  },
  {
   "cell_type": "code",
   "execution_count": 239,
   "metadata": {},
   "outputs": [],
   "source": [
    "from sklearn.preprocessing import StandardScaler\n",
    "sc=StandardScaler()\n",
    "x=sc.fit_transform(x)"
   ]
  },
  {
   "cell_type": "code",
   "execution_count": 240,
   "metadata": {},
   "outputs": [],
   "source": [
    "from sklearn.linear_model import LinearRegression\n",
    "from sklearn.model_selection import train_test_split\n",
    "from sklearn.metrics import mean_absolute_error,mean_squared_error,r2_score\n",
    "def maxr2_score(reg,x,y):\n",
    "    \n",
    "    max_r=0\n",
    "    for r_state in range(42,100):\n",
    "        x_train,x_test,y_train,y_test=train_test_split(x,y,random_state=r_state,test_size=0.20)\n",
    "        reg.fit(x_train,y_train)\n",
    "        pred=reg.predict(x_test)\n",
    "        r2scr=r2_score(y_test,pred)\n",
    "        print(\"r2 score corresponding to random state\",r_state,\"is\",r2scr)\n",
    "        if r2scr>max_r:\n",
    "            max_r=r2scr\n",
    "            max_r_state=r_state\n",
    "    print()\n",
    "    print(\"the Maximum r2 score is\",max_r,\"corresponding to random state\",max_r_state)"
   ]
  },
  {
   "cell_type": "code",
   "execution_count": 241,
   "metadata": {},
   "outputs": [
    {
     "name": "stdout",
     "output_type": "stream",
     "text": [
      "r2 score corresponding to random state 42 is 0.34348229374879835\n",
      "r2 score corresponding to random state 43 is 0.33057887218616344\n",
      "r2 score corresponding to random state 44 is 0.3058931852468947\n",
      "r2 score corresponding to random state 45 is 0.3481031821721404\n",
      "r2 score corresponding to random state 46 is 0.35905319280958414\n",
      "r2 score corresponding to random state 47 is 0.37832891530708324\n",
      "r2 score corresponding to random state 48 is 0.3520152742575713\n",
      "r2 score corresponding to random state 49 is 0.4085710415948378\n",
      "r2 score corresponding to random state 50 is 0.33021427126609626\n",
      "r2 score corresponding to random state 51 is 0.32325536215525374\n",
      "r2 score corresponding to random state 52 is 0.3026528097181814\n",
      "r2 score corresponding to random state 53 is 0.34523432861676306\n",
      "r2 score corresponding to random state 54 is 0.33196195568158915\n",
      "r2 score corresponding to random state 55 is 0.32428852183503054\n",
      "r2 score corresponding to random state 56 is 0.34033016367262026\n",
      "r2 score corresponding to random state 57 is 0.3789284701684429\n",
      "r2 score corresponding to random state 58 is 0.2829897607664311\n",
      "r2 score corresponding to random state 59 is 0.41806449955646796\n",
      "r2 score corresponding to random state 60 is 0.3245018011653926\n",
      "r2 score corresponding to random state 61 is 0.39218707380299056\n",
      "r2 score corresponding to random state 62 is 0.35739545589668587\n",
      "r2 score corresponding to random state 63 is 0.351869571615785\n",
      "r2 score corresponding to random state 64 is 0.3037987629141746\n",
      "r2 score corresponding to random state 65 is 0.3997982120760636\n",
      "r2 score corresponding to random state 66 is 0.3541015059825525\n",
      "r2 score corresponding to random state 67 is 0.3925972793485196\n",
      "r2 score corresponding to random state 68 is 0.3896791432054775\n",
      "r2 score corresponding to random state 69 is 0.41249899250730204\n",
      "r2 score corresponding to random state 70 is 0.3318289759640738\n",
      "r2 score corresponding to random state 71 is 0.24753337972904665\n",
      "r2 score corresponding to random state 72 is 0.39713324428168806\n",
      "r2 score corresponding to random state 73 is 0.27969344521947315\n",
      "r2 score corresponding to random state 74 is 0.3149108650932446\n",
      "r2 score corresponding to random state 75 is 0.30514102673027965\n",
      "r2 score corresponding to random state 76 is 0.4382161970096773\n",
      "r2 score corresponding to random state 77 is 0.45294190152627545\n",
      "r2 score corresponding to random state 78 is 0.344745433009776\n",
      "r2 score corresponding to random state 79 is 0.3675810370036944\n",
      "r2 score corresponding to random state 80 is 0.3340442896603032\n",
      "r2 score corresponding to random state 81 is 0.363620327472836\n",
      "r2 score corresponding to random state 82 is 0.3891587857285609\n",
      "r2 score corresponding to random state 83 is 0.3781271353535832\n",
      "r2 score corresponding to random state 84 is 0.4273504779405428\n",
      "r2 score corresponding to random state 85 is 0.3765959331716484\n",
      "r2 score corresponding to random state 86 is 0.35861669065732094\n",
      "r2 score corresponding to random state 87 is 0.39014849521882944\n",
      "r2 score corresponding to random state 88 is 0.33054810404412716\n",
      "r2 score corresponding to random state 89 is 0.39649658810025634\n",
      "r2 score corresponding to random state 90 is 0.3575512735448866\n",
      "r2 score corresponding to random state 91 is 0.41136826408327487\n",
      "r2 score corresponding to random state 92 is 0.31490577408516884\n",
      "r2 score corresponding to random state 93 is 0.36187378748166776\n",
      "r2 score corresponding to random state 94 is 0.3237538479322716\n",
      "r2 score corresponding to random state 95 is 0.39362545853929054\n",
      "r2 score corresponding to random state 96 is 0.2633322874658057\n",
      "r2 score corresponding to random state 97 is 0.34976891550420763\n",
      "r2 score corresponding to random state 98 is 0.3647209796912637\n",
      "r2 score corresponding to random state 99 is 0.3393425909551492\n",
      "\n",
      "the Maximum r2 score is 0.45294190152627545 corresponding to random state 77\n"
     ]
    }
   ],
   "source": [
    "maxr2_score(lr,x_train,y_train)"
   ]
  },
  {
   "cell_type": "code",
   "execution_count": 242,
   "metadata": {},
   "outputs": [
    {
     "data": {
      "text/plain": [
       "0.30996717610329166"
      ]
     },
     "execution_count": 242,
     "metadata": {},
     "output_type": "execute_result"
    }
   ],
   "source": [
    "from sklearn.model_selection import cross_val_score\n",
    "cross_val_score(LinearRegression(),x,y,cv=5,scoring=\"r2\").mean()"
   ]
  },
  {
   "cell_type": "code",
   "execution_count": null,
   "metadata": {},
   "outputs": [],
   "source": []
  },
  {
   "cell_type": "code",
   "execution_count": 243,
   "metadata": {},
   "outputs": [
    {
     "data": {
      "text/plain": [
       "array([[ 0.14739395,  0.04899365,  0.04729909, -0.00489286,  0.09459458,\n",
       "        -0.14470538, -0.16299345, -0.01307251,  0.23062821,  0.22116212]])"
      ]
     },
     "execution_count": 243,
     "metadata": {},
     "output_type": "execute_result"
    }
   ],
   "source": [
    "lr.coef_"
   ]
  },
  {
   "cell_type": "code",
   "execution_count": null,
   "metadata": {},
   "outputs": [],
   "source": []
  },
  {
   "cell_type": "code",
   "execution_count": 244,
   "metadata": {},
   "outputs": [
    {
     "data": {
      "text/plain": [
       "{'n_neighbors': 15}"
      ]
     },
     "execution_count": 244,
     "metadata": {},
     "output_type": "execute_result"
    }
   ],
   "source": [
    "from sklearn.model_selection import GridSearchCV\n",
    "from sklearn.neighbors import KNeighborsRegressor\n",
    "neighbors={\"n_neighbors\":range(1,30)}\n",
    "knr=KNeighborsRegressor()\n",
    "gknr=GridSearchCV(knr,neighbors,cv=10)\n",
    "gknr.fit(x_train,y_train)\n",
    "gknr.best_params_"
   ]
  },
  {
   "cell_type": "code",
   "execution_count": 245,
   "metadata": {},
   "outputs": [
    {
     "name": "stdout",
     "output_type": "stream",
     "text": [
      "r2 score corresponding to random state 42 is 0.32020712733314427\n",
      "r2 score corresponding to random state 43 is 0.31341377343782195\n",
      "r2 score corresponding to random state 44 is 0.31512677087629726\n",
      "r2 score corresponding to random state 45 is 0.35876284353222954\n",
      "r2 score corresponding to random state 46 is 0.36378216360933346\n",
      "r2 score corresponding to random state 47 is 0.32433600772901605\n",
      "r2 score corresponding to random state 48 is 0.336179013991157\n",
      "r2 score corresponding to random state 49 is 0.36783144042712124\n",
      "r2 score corresponding to random state 50 is 0.3171083770891847\n",
      "r2 score corresponding to random state 51 is 0.30635718330903783\n",
      "r2 score corresponding to random state 52 is 0.32138279149418925\n",
      "r2 score corresponding to random state 53 is 0.32526541750204874\n",
      "r2 score corresponding to random state 54 is 0.29842222073891134\n",
      "r2 score corresponding to random state 55 is 0.3069163689460781\n",
      "r2 score corresponding to random state 56 is 0.35790644141859485\n",
      "r2 score corresponding to random state 57 is 0.348144489911105\n",
      "r2 score corresponding to random state 58 is 0.29510235147310016\n",
      "r2 score corresponding to random state 59 is 0.39541622563040035\n",
      "r2 score corresponding to random state 60 is 0.2755970046641836\n",
      "r2 score corresponding to random state 61 is 0.3616402821596518\n",
      "r2 score corresponding to random state 62 is 0.33346448333349044\n",
      "r2 score corresponding to random state 63 is 0.2933773085339746\n",
      "r2 score corresponding to random state 64 is 0.2356353386382254\n",
      "r2 score corresponding to random state 65 is 0.34143456078545\n",
      "r2 score corresponding to random state 66 is 0.29574058762697364\n",
      "r2 score corresponding to random state 67 is 0.3698556160998109\n",
      "r2 score corresponding to random state 68 is 0.36511513250521765\n",
      "r2 score corresponding to random state 69 is 0.3827929635875076\n",
      "r2 score corresponding to random state 70 is 0.3553624374782255\n",
      "r2 score corresponding to random state 71 is 0.2219135304538652\n",
      "r2 score corresponding to random state 72 is 0.3424657016325594\n",
      "r2 score corresponding to random state 73 is 0.24954919061940428\n",
      "r2 score corresponding to random state 74 is 0.3024849498922181\n",
      "r2 score corresponding to random state 75 is 0.31729716013617815\n",
      "r2 score corresponding to random state 76 is 0.3975959098505285\n",
      "r2 score corresponding to random state 77 is 0.40162955621806473\n",
      "r2 score corresponding to random state 78 is 0.33355680031580304\n",
      "r2 score corresponding to random state 79 is 0.3234110589813576\n",
      "r2 score corresponding to random state 80 is 0.2870260930302059\n",
      "r2 score corresponding to random state 81 is 0.3095221922846342\n",
      "r2 score corresponding to random state 82 is 0.33208810013741286\n",
      "r2 score corresponding to random state 83 is 0.3193500617445413\n",
      "r2 score corresponding to random state 84 is 0.3735461701127818\n",
      "r2 score corresponding to random state 85 is 0.356645728029784\n",
      "r2 score corresponding to random state 86 is 0.3480114240079819\n",
      "r2 score corresponding to random state 87 is 0.3526115538738521\n",
      "r2 score corresponding to random state 88 is 0.34684492104747167\n",
      "r2 score corresponding to random state 89 is 0.34239251532745596\n",
      "r2 score corresponding to random state 90 is 0.31594141140864185\n",
      "r2 score corresponding to random state 91 is 0.3756366108414444\n",
      "r2 score corresponding to random state 92 is 0.3298343506179112\n",
      "r2 score corresponding to random state 93 is 0.3350279355159803\n",
      "r2 score corresponding to random state 94 is 0.3551913580818795\n",
      "r2 score corresponding to random state 95 is 0.36511604791014374\n",
      "r2 score corresponding to random state 96 is 0.29754425668952533\n",
      "r2 score corresponding to random state 97 is 0.3296951045899291\n",
      "r2 score corresponding to random state 98 is 0.3551216299514244\n",
      "r2 score corresponding to random state 99 is 0.3094189208164726\n",
      "\n",
      "the Maximum r2 score is 0.40162955621806473 corresponding to random state 77\n"
     ]
    }
   ],
   "source": [
    "knr=KNeighborsRegressor(n_neighbors=19)\n",
    "r_state=maxr2_score(knr,x_train,y_train)"
   ]
  },
  {
   "cell_type": "code",
   "execution_count": 247,
   "metadata": {},
   "outputs": [
    {
     "name": "stdout",
     "output_type": "stream",
     "text": [
      "mean r2 score for linear regression is: 0.355307341443876\n",
      "std for linear regression is: 0.016878944787669298\n",
      "\n",
      "mean r2 score for KNeighbors regression is: 0.33154413873863725\n",
      "std for KNeighbors regression is: 0.038730935466015505\n"
     ]
    }
   ],
   "source": [
    "from sklearn.model_selection import cross_val_score\n",
    "print('mean r2 score for linear regression is:',cross_val_score(lr,x_train,y_train,cv=5,scoring='r2').mean())\n",
    "print('std for linear regression is:',cross_val_score(lr,x_train,y_train,cv=5,scoring='r2').std())\n",
    "print()\n",
    "print('mean r2 score for KNeighbors regression is:',cross_val_score(knr,x_train,y_train,cv=5,scoring='r2').mean())\n",
    "print('std for KNeighbors regression is:',cross_val_score(knr,x_train,y_train,cv=5,scoring='r2').std())"
   ]
  },
  {
   "cell_type": "code",
   "execution_count": 249,
   "metadata": {},
   "outputs": [
    {
     "data": {
      "text/plain": [
       "{'alpha': 0.001}"
      ]
     },
     "execution_count": 249,
     "metadata": {},
     "output_type": "execute_result"
    }
   ],
   "source": [
    "from sklearn.linear_model import Lasso\n",
    "lsreg=Lasso()\n",
    "parameters={'alpha':[0.001,0.01,0.1,1]}\n",
    "clf=GridSearchCV(lsreg,parameters,cv=10)\n",
    "clf.fit(x_train,y_train)\n",
    "clf.best_params_"
   ]
  },
  {
   "cell_type": "code",
   "execution_count": 250,
   "metadata": {},
   "outputs": [
    {
     "name": "stdout",
     "output_type": "stream",
     "text": [
      "r2 score corresponding to random state 42 is 0.34480540805433024\n",
      "r2 score corresponding to random state 43 is 0.3310251490325655\n",
      "r2 score corresponding to random state 44 is 0.3060895466639859\n",
      "r2 score corresponding to random state 45 is 0.3488618587913008\n",
      "r2 score corresponding to random state 46 is 0.3584111392726397\n",
      "r2 score corresponding to random state 47 is 0.3773809698217859\n",
      "r2 score corresponding to random state 48 is 0.35336758193074835\n",
      "r2 score corresponding to random state 49 is 0.4085902122041565\n",
      "r2 score corresponding to random state 50 is 0.32965748753440405\n",
      "r2 score corresponding to random state 51 is 0.3235694588212549\n",
      "r2 score corresponding to random state 52 is 0.30267198191611666\n",
      "r2 score corresponding to random state 53 is 0.34573611300063734\n",
      "r2 score corresponding to random state 54 is 0.33208314096390434\n",
      "r2 score corresponding to random state 55 is 0.3244342637472807\n",
      "r2 score corresponding to random state 56 is 0.34223771668609526\n",
      "r2 score corresponding to random state 57 is 0.37954874544270467\n",
      "r2 score corresponding to random state 58 is 0.2826964693063809\n",
      "r2 score corresponding to random state 59 is 0.41813020973216064\n",
      "r2 score corresponding to random state 60 is 0.32405230518437156\n",
      "r2 score corresponding to random state 61 is 0.3930794118694707\n",
      "r2 score corresponding to random state 62 is 0.35752204292986434\n",
      "r2 score corresponding to random state 63 is 0.3518761466323853\n",
      "r2 score corresponding to random state 64 is 0.30439217555832665\n",
      "r2 score corresponding to random state 65 is 0.40010718240655474\n",
      "r2 score corresponding to random state 66 is 0.3538193343901397\n",
      "r2 score corresponding to random state 67 is 0.3925779660555698\n",
      "r2 score corresponding to random state 68 is 0.3894141592372403\n",
      "r2 score corresponding to random state 69 is 0.4120339196676509\n",
      "r2 score corresponding to random state 70 is 0.3319356437224472\n",
      "r2 score corresponding to random state 71 is 0.2487645496299652\n",
      "r2 score corresponding to random state 72 is 0.39740553347941376\n",
      "r2 score corresponding to random state 73 is 0.2791938658808486\n",
      "r2 score corresponding to random state 74 is 0.3157194149108743\n",
      "r2 score corresponding to random state 75 is 0.3053887072160869\n",
      "r2 score corresponding to random state 76 is 0.43794197130597934\n",
      "r2 score corresponding to random state 77 is 0.45251035955944907\n",
      "r2 score corresponding to random state 78 is 0.34579288885314063\n",
      "r2 score corresponding to random state 79 is 0.3684107265070935\n",
      "r2 score corresponding to random state 80 is 0.3340939794523822\n",
      "r2 score corresponding to random state 81 is 0.36358957756825216\n",
      "r2 score corresponding to random state 82 is 0.38890629338076976\n",
      "r2 score corresponding to random state 83 is 0.3775705039372145\n",
      "r2 score corresponding to random state 84 is 0.42754702916666765\n",
      "r2 score corresponding to random state 85 is 0.3766335696373375\n",
      "r2 score corresponding to random state 86 is 0.35869505670850976\n",
      "r2 score corresponding to random state 87 is 0.3892930110277648\n",
      "r2 score corresponding to random state 88 is 0.33089309794548283\n",
      "r2 score corresponding to random state 89 is 0.3969962155026505\n",
      "r2 score corresponding to random state 90 is 0.35655209065391025\n",
      "r2 score corresponding to random state 91 is 0.41095222856711544\n",
      "r2 score corresponding to random state 92 is 0.31435296780175226\n",
      "r2 score corresponding to random state 93 is 0.36261757283182794\n",
      "r2 score corresponding to random state 94 is 0.3240781777655872\n",
      "r2 score corresponding to random state 95 is 0.3925037809868659\n",
      "r2 score corresponding to random state 96 is 0.2641799062708211\n",
      "r2 score corresponding to random state 97 is 0.3499430424842507\n",
      "r2 score corresponding to random state 98 is 0.36475528862963313\n",
      "r2 score corresponding to random state 99 is 0.33948912384399843\n",
      "\n",
      "the Maximum r2 score is 0.45251035955944907 corresponding to random state 77\n"
     ]
    }
   ],
   "source": [
    "lsreg=Lasso(alpha=0.001)\n",
    "r_state=maxr2_score(lsreg,x_train,y_train)"
   ]
  },
  {
   "cell_type": "code",
   "execution_count": 251,
   "metadata": {},
   "outputs": [
    {
     "name": "stdout",
     "output_type": "stream",
     "text": [
      "mean r2 score for Lasso regression is: 0.3553089105542583\n",
      "std for Lasso regression is: 0.016940124199589863\n"
     ]
    }
   ],
   "source": [
    "print('mean r2 score for Lasso regression is:',cross_val_score(lsreg,x_train,y_train,cv=5,scoring='r2').mean())\n",
    "print('std for Lasso regression is:',cross_val_score(lsreg,x_train,y_train,cv=5,scoring='r2').std())"
   ]
  },
  {
   "cell_type": "code",
   "execution_count": 253,
   "metadata": {},
   "outputs": [
    {
     "data": {
      "text/plain": [
       "{'learning_rate': 0.1, 'n_estimators': 500}"
      ]
     },
     "execution_count": 253,
     "metadata": {},
     "output_type": "execute_result"
    }
   ],
   "source": [
    "from sklearn.ensemble import GradientBoostingRegressor\n",
    "import warnings\n",
    "warnings.filterwarnings('ignore')\n",
    "gbr=GradientBoostingRegressor()\n",
    "parameters={\"learning_rate\":[0.001,0.01,0.1,1],'n_estimators':[10,100,500,1000]}\n",
    "clf=GridSearchCV(gbr,parameters,cv=5)\n",
    "clf.fit(x_train,y_train)\n",
    "clf.best_params_"
   ]
  },
  {
   "cell_type": "code",
   "execution_count": 254,
   "metadata": {},
   "outputs": [
    {
     "name": "stdout",
     "output_type": "stream",
     "text": [
      "mean r2 score for Gradient Boosting regression is: 0.39788009264187424\n",
      "std for Gradient Boosting regression is: 0.027190138889799435\n"
     ]
    }
   ],
   "source": [
    "gbr=GradientBoostingRegressor(learning_rate=0.01,n_estimators=500)\n",
    "print('mean r2 score for Gradient Boosting regression is:',cross_val_score(gbr,x_train,y_train,cv=5,scoring='r2').mean())\n",
    "print('std for Gradient Boosting regression is:',cross_val_score(gbr,x_train,y_train,cv=5,scoring='r2').std())"
   ]
  },
  {
   "cell_type": "code",
   "execution_count": 255,
   "metadata": {},
   "outputs": [
    {
     "data": {
      "text/plain": [
       "{'base_estimator': DecisionTreeRegressor(ccp_alpha=0.0, criterion='mse', max_depth=None,\n",
       "                       max_features=None, max_leaf_nodes=None,\n",
       "                       min_impurity_decrease=0.0, min_impurity_split=None,\n",
       "                       min_samples_leaf=1, min_samples_split=2,\n",
       "                       min_weight_fraction_leaf=0.0, presort='deprecated',\n",
       "                       random_state=None, splitter='best'),\n",
       " 'learning_rate': 0.001,\n",
       " 'n_estimators': 1000}"
      ]
     },
     "execution_count": 255,
     "metadata": {},
     "output_type": "execute_result"
    }
   ],
   "source": [
    "from sklearn.ensemble import AdaBoostRegressor\n",
    "from sklearn.tree import DecisionTreeRegressor\n",
    "dtr=DecisionTreeRegressor()\n",
    "ada_reg=AdaBoostRegressor()\n",
    "parameters={'learning_rate':[0.001,0.01,0.1,1],'n_estimators':[10,100,500,1000],'base_estimator':[lr,lsreg,dtr]}\n",
    "clf=GridSearchCV(ada_reg,parameters,cv=5)\n",
    "clf.fit(x_train,y_train)\n",
    "clf.best_params_"
   ]
  },
  {
   "cell_type": "code",
   "execution_count": 260,
   "metadata": {},
   "outputs": [
    {
     "name": "stdout",
     "output_type": "stream",
     "text": [
      "mean r2 score for AdaBoosting regression is: 0.3790158788765562\n",
      "std for AdaBoosting regression is: 0.0374730019759717\n"
     ]
    }
   ],
   "source": [
    "ada_reg=AdaBoostRegressor(base_estimator=dtr,learning_rate=0.001,n_estimators=1000)\n",
    "print('mean r2 score for AdaBoosting regression is:',cross_val_score(ada_reg,x_train,y_train,cv=5,scoring='r2').mean())\n",
    "print('std for AdaBoosting regression is:',cross_val_score(ada_reg,x_train,y_train,cv=5,scoring='r2').std())\n"
   ]
  },
  {
   "cell_type": "code",
   "execution_count": 261,
   "metadata": {},
   "outputs": [
    {
     "name": "stdout",
     "output_type": "stream",
     "text": [
      "r2 score corresponding to random state 42 is 0.379883843717001\n",
      "r2 score corresponding to random state 43 is 0.25070032626965055\n",
      "r2 score corresponding to random state 44 is 0.25778521323119385\n",
      "r2 score corresponding to random state 45 is 0.35985138236258307\n",
      "r2 score corresponding to random state 46 is 0.28965915655690366\n",
      "r2 score corresponding to random state 47 is 0.4400586581938165\n",
      "r2 score corresponding to random state 48 is 0.335358276957062\n",
      "r2 score corresponding to random state 49 is 0.3800395027303358\n",
      "r2 score corresponding to random state 50 is 0.419632678910703\n",
      "r2 score corresponding to random state 51 is 0.31860554207636316\n",
      "r2 score corresponding to random state 52 is 0.266151412968876\n",
      "r2 score corresponding to random state 53 is 0.42139359469570237\n",
      "r2 score corresponding to random state 54 is 0.5341365461847389\n",
      "r2 score corresponding to random state 55 is 0.3781748564135291\n",
      "r2 score corresponding to random state 56 is 0.3546478873239438\n",
      "r2 score corresponding to random state 57 is 0.4091152815013406\n",
      "r2 score corresponding to random state 58 is 0.40548455804046857\n",
      "r2 score corresponding to random state 59 is 0.4507678410117435\n",
      "r2 score corresponding to random state 60 is 0.32069157836029005\n",
      "r2 score corresponding to random state 61 is 0.3520184469487838\n",
      "r2 score corresponding to random state 62 is 0.353210470712525\n",
      "r2 score corresponding to random state 63 is 0.3504599575423807\n",
      "r2 score corresponding to random state 64 is 0.2001313413232637\n",
      "r2 score corresponding to random state 65 is 0.4407444780805022\n",
      "r2 score corresponding to random state 66 is 0.3338119167264896\n",
      "r2 score corresponding to random state 67 is 0.30051078320090796\n",
      "r2 score corresponding to random state 68 is 0.40696706693615514\n",
      "r2 score corresponding to random state 69 is 0.3304678865283065\n",
      "r2 score corresponding to random state 70 is 0.31498932026636506\n",
      "r2 score corresponding to random state 71 is 0.1731030681609408\n",
      "r2 score corresponding to random state 72 is 0.3601000909918106\n",
      "r2 score corresponding to random state 73 is 0.3602036487059824\n",
      "r2 score corresponding to random state 74 is 0.38198900091659027\n",
      "r2 score corresponding to random state 75 is 0.29898218829516543\n",
      "r2 score corresponding to random state 76 is 0.3452095535795575\n",
      "r2 score corresponding to random state 77 is 0.468475073313783\n",
      "r2 score corresponding to random state 78 is 0.3658476658476658\n",
      "r2 score corresponding to random state 79 is 0.32813544219202506\n",
      "r2 score corresponding to random state 80 is 0.3135667123458329\n",
      "r2 score corresponding to random state 81 is 0.32519362803125107\n",
      "r2 score corresponding to random state 82 is 0.48910986477651996\n",
      "r2 score corresponding to random state 83 is 0.33730514975924275\n",
      "r2 score corresponding to random state 84 is 0.368861607142857\n",
      "r2 score corresponding to random state 85 is 0.43549259219206227\n",
      "r2 score corresponding to random state 86 is 0.42484092223783143\n",
      "r2 score corresponding to random state 87 is 0.3851358971467239\n",
      "r2 score corresponding to random state 88 is 0.3054816391697711\n",
      "r2 score corresponding to random state 89 is 0.47403132728771635\n",
      "r2 score corresponding to random state 90 is 0.4397319407130137\n",
      "r2 score corresponding to random state 91 is 0.5477064220183485\n",
      "r2 score corresponding to random state 92 is 0.3283190066857691\n",
      "r2 score corresponding to random state 93 is 0.2791647097077208\n",
      "r2 score corresponding to random state 94 is 0.3482274247491639\n",
      "r2 score corresponding to random state 95 is 0.39069877242681783\n",
      "r2 score corresponding to random state 96 is 0.3308862087047718\n",
      "r2 score corresponding to random state 97 is 0.3592699327569643\n",
      "r2 score corresponding to random state 98 is 0.43148338949068543\n",
      "r2 score corresponding to random state 99 is 0.3050691244239633\n",
      "\n",
      "the Maximum r2 score is 0.5477064220183485 corresponding to random state 91\n"
     ]
    }
   ],
   "source": [
    "r_state=maxr2_score(ada_reg,x_train,y_train)"
   ]
  },
  {
   "cell_type": "code",
   "execution_count": null,
   "metadata": {},
   "outputs": [],
   "source": []
  }
 ],
 "metadata": {
  "kernelspec": {
   "display_name": "Python 3",
   "language": "python",
   "name": "python3"
  },
  "language_info": {
   "codemirror_mode": {
    "name": "ipython",
    "version": 3
   },
   "file_extension": ".py",
   "mimetype": "text/x-python",
   "name": "python",
   "nbconvert_exporter": "python",
   "pygments_lexer": "ipython3",
   "version": "3.7.6"
  }
 },
 "nbformat": 4,
 "nbformat_minor": 4
}
